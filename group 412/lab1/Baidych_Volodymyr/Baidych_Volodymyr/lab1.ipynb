{
 "cells": [
  {
   "cell_type": "markdown",
   "id": "8c7a0148",
   "metadata": {},
   "source": [
    "Лабораторна робота №1 \n",
    "\n",
    "з дисципліни \"Computer vision\"\n",
    "\n",
    "виконав: студент групи КН-412 Байдич Володимир\n",
    "\n",
    "Викладач: Пелешко Д. Д."
   ]
  },
  {
   "cell_type": "markdown",
   "id": "a0f89a8e",
   "metadata": {},
   "source": [
    "Вибрати з інтернету два зображення з різною деталізацією об’єктів та два зображення\n",
    "з різним контрастом. Без використання жодних бібліотек для обробки зображень\n",
    "(наприклад Open CV), виконати відповідне завдання (номер завдання вказано у\n",
    "рейтинговій таблиці)Завдання: виконати 2D лінійну фільтрацію зображення з різними значеннями ядра. Провести\n",
    "порівняльний аналіз"
   ]
  },
  {
   "cell_type": "code",
   "execution_count": 1,
   "id": "17233f30",
   "metadata": {},
   "outputs": [],
   "source": [
    "import numpy as np\n",
    "import cv2"
   ]
  },
  {
   "cell_type": "code",
   "execution_count": 16,
   "id": "72499b43",
   "metadata": {},
   "outputs": [],
   "source": [
    "def fltr(img, kernel):\n",
    "    distance = len(kernel) // 2\n",
    "    new_img = np.zeros_like(img)\n",
    "\n",
    "    img_padded = np.pad(img, ((distance, distance), (distance, distance)), mode='constant')\n",
    "\n",
    "    for i in range(distance,len(img_padded) - distance):\n",
    "        for j in range(distance, img_padded.shape[1] - distance):\n",
    "            vl = 0\n",
    "            l = i - distance\n",
    "            k = j - distance\n",
    "            for n in range(len(kernel)):\n",
    "                for m in range(len(kernel)):\n",
    "                    vl += img_padded[l+n, k+m] * kernel[n][m]\n",
    "\n",
    "            if vl > 255:\n",
    "                vl = 255\n",
    "            if vl < 0:\n",
    "                vl = 0\n",
    "            new_img[l, k] = vl\n",
    "\n",
    "    return new_img"
   ]
  },
  {
   "cell_type": "code",
   "execution_count": 17,
   "id": "f6125b76",
   "metadata": {},
   "outputs": [
    {
     "data": {
      "text/plain": [
       "True"
      ]
     },
     "execution_count": 17,
     "metadata": {},
     "output_type": "execute_result"
    }
   ],
   "source": [
    "kernel_1 =  [[1, 2, 3,],\n",
    "           [0, 0, 1], \n",
    "           [0, 0, 0]]\n",
    "kernel_2 = np.ones((5,5),np.float32)/25\n",
    "\n",
    "image = cv2.imread(\"Photo\\img_1.jpg\", 0)\n",
    "cv2.imwrite('img_1_filtr_1.jpg', fltr(image, kernel_1))\n",
    "cv2.imwrite('img_1_filtr_2.jpg', fltr(image, kernel_2))"
   ]
  },
  {
   "cell_type": "code",
   "execution_count": 18,
   "id": "c6d4bdfe",
   "metadata": {},
   "outputs": [
    {
     "data": {
      "text/plain": [
       "True"
      ]
     },
     "execution_count": 18,
     "metadata": {},
     "output_type": "execute_result"
    }
   ],
   "source": [
    "image = cv2.imread(\"Photo\\img_2.jpg\", 0)\n",
    "img = np.asarray(image, dtype=np.float32)\n",
    "cv2.imwrite('img_2_filtr_1.jpg', fltr(img,kernel_1))\n",
    "cv2.imwrite('img_2_filtr_2.jpg', fltr(img,kernel_2))"
   ]
  }
 ],
 "metadata": {
  "kernelspec": {
   "display_name": "Python 3 (ipykernel)",
   "language": "python",
   "name": "python3"
  },
  "language_info": {
   "codemirror_mode": {
    "name": "ipython",
    "version": 3
   },
   "file_extension": ".py",
   "mimetype": "text/x-python",
   "name": "python",
   "nbconvert_exporter": "python",
   "pygments_lexer": "ipython3",
   "version": "3.9.12"
  }
 },
 "nbformat": 4,
 "nbformat_minor": 5
}
