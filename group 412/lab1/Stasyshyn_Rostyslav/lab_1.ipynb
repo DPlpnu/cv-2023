{
 "cells": [
  {
   "cell_type": "code",
   "execution_count": 1,
   "id": "ed02c557",
   "metadata": {},
   "outputs": [
    {
     "name": "stderr",
     "output_type": "stream",
     "text": [
      "c:\\users\\r\\appdata\\local\\programs\\python\\python38\\lib\\site-packages\\numpy\\_distributor_init.py:30: UserWarning: loaded more than 1 DLL from .libs:\n",
      "c:\\users\\r\\appdata\\local\\programs\\python\\python38\\lib\\site-packages\\numpy\\.libs\\libopenblas.GK7GX5KEQ4F6UYO3P26ULGBQYHGQO7J4.gfortran-win_amd64.dll\n",
      "c:\\users\\r\\appdata\\local\\programs\\python\\python38\\lib\\site-packages\\numpy\\.libs\\libopenblas.QVLO2T66WEPI7JZ63PS3HMOHFEY472BC.gfortran-win_amd64.dll\n",
      "  warnings.warn(\"loaded more than 1 DLL from .libs:\"\n"
     ]
    }
   ],
   "source": [
    "import numpy as np\n",
    "from PIL import Image\n",
    "from matplotlib import pyplot as plt"
   ]
  },
  {
   "cell_type": "code",
   "execution_count": 2,
   "id": "47464add",
   "metadata": {},
   "outputs": [],
   "source": [
    "def set_rgb(rgb: int):\n",
    "    return min(255, rgb) if rgb > 0 else 0"
   ]
  },
  {
   "cell_type": "code",
   "execution_count": 3,
   "id": "7d1b6091",
   "metadata": {},
   "outputs": [],
   "source": [
    "def increasing_contrast(img_arr, a: float, s: int, t: int):\n",
    "    x, y, z = img_arr.shape\n",
    "    for i in range(0, x):\n",
    "        for j in range(0, y):\n",
    "            r, g, b = img_arr[i][j]\n",
    "            new_red_value = set_rgb(a * (r + s) - t)\n",
    "            new_green_value = set_rgb(a * (g + s) - t)\n",
    "            new_blue_value = set_rgb(a * (b + s) - t)\n",
    "            img_arr[i][j] = [new_red_value, new_green_value, new_blue_value]\n",
    "    return img_arr"
   ]
  },
  {
   "cell_type": "code",
   "execution_count": 10,
   "id": "ed7145bc",
   "metadata": {},
   "outputs": [],
   "source": [
    "image = Image.open('2.jpg')\n",
    "image_array = np.array(image)"
   ]
  },
  {
   "cell_type": "code",
   "execution_count": 11,
   "id": "277fd8a1",
   "metadata": {},
   "outputs": [],
   "source": [
    "contrast_image = increasing_contrast(image_array, 1.2, 0, 3)"
   ]
  },
  {
   "cell_type": "code",
   "execution_count": 12,
   "id": "b8d16527",
   "metadata": {},
   "outputs": [],
   "source": [
    "output_image = Image.fromarray(contrast_image)"
   ]
  },
  {
   "cell_type": "code",
   "execution_count": 13,
   "id": "7e724614",
   "metadata": {},
   "outputs": [],
   "source": [
    "image.show()\n",
    "#output_image.show()"
   ]
  },
  {
   "cell_type": "code",
   "execution_count": 8,
   "id": "e1d5f340",
   "metadata": {},
   "outputs": [],
   "source": [
    "def gamma_correction(image, gamma):\n",
    "    image_normalized = image / 255.0\n",
    "    gamma_corrected = np.power(image_normalized, gamma)\n",
    "    gamma_corrected = np.uint8(gamma_corrected * 255)\n",
    "    return gamma_corrected"
   ]
  },
  {
   "cell_type": "code",
   "execution_count": 9,
   "id": "12d88e00",
   "metadata": {},
   "outputs": [],
   "source": [
    "gamma_corrected_image = gamma_correction(image_array, 0.5)\n",
    "\n",
    "#output_image_array = np.array(output_image)\n",
    "#gamma_corrected_image_output = gamma_correction(output_image_array, 0.5)\n",
    "\n",
    "gamma_corrected_image = Image.fromarray(gamma_corrected_image)\n",
    "#output_gamma_corrected_image = Image.fromarray(gamma_corrected_image_output)\n",
    "\n",
    "gamma_corrected_image.show()\n",
    "#output_gamma_corrected_image.show()"
   ]
  },
  {
   "cell_type": "code",
   "execution_count": null,
   "id": "defdcbf0",
   "metadata": {},
   "outputs": [],
   "source": []
  }
 ],
 "metadata": {
  "kernelspec": {
   "display_name": "Python 3 (ipykernel)",
   "language": "python",
   "name": "python3"
  },
  "language_info": {
   "codemirror_mode": {
    "name": "ipython",
    "version": 3
   },
   "file_extension": ".py",
   "mimetype": "text/x-python",
   "name": "python",
   "nbconvert_exporter": "python",
   "pygments_lexer": "ipython3",
   "version": "3.8.0"
  }
 },
 "nbformat": 4,
 "nbformat_minor": 5
}
